{
 "cells": [
  {
   "cell_type": "code",
   "execution_count": 2,
   "id": "b9d61fb0-8827-4d59-9a1f-657f1bc65b0a",
   "metadata": {
    "id": "b9d61fb0-8827-4d59-9a1f-657f1bc65b0a"
   },
   "outputs": [],
   "source": [
    "import yfinance as yf\n",
    "import pandas as pd\n",
    "import ta\n",
    "import numpy as np\n",
    "import requests\n"
   ]
  },
  {
   "cell_type": "markdown",
   "id": "e8e28413-3f19-407c-91ba-4c126ac7fe1a",
   "metadata": {
    "id": "e8e28413-3f19-407c-91ba-4c126ac7fe1a",
    "jp-MarkdownHeadingCollapsed": true,
    "tags": []
   },
   "source": [
    "# Data Extraction: \n",
    "Extract S&P 500 healthcare data from wikipedia and financial modeling Prep Api"
   ]
  },
  {
   "cell_type": "markdown",
   "id": "a90338a8-33f4-47fe-887e-698dd09528a4",
   "metadata": {},
   "source": [
    "### Get Ticker data"
   ]
  },
  {
   "cell_type": "code",
   "execution_count": 4,
   "id": "c87b1c3b-e43c-4143-ae0f-abc5ea70100e",
   "metadata": {
    "tags": []
   },
   "outputs": [],
   "source": [
    "# 📈 Get ticker data from S&P 500\n",
    "# url = 'https://en.wikipedia.org/wiki/List_of_S%26P_500_companies'\n",
    "\n",
    "# def get_tickers(url : str) -> pd.DataFrame:\n",
    "#     ticker_list = pd.read_html(url)\n",
    "    \n",
    "#     df = ticker_list[0]\n",
    "#     cols = [\"Symbol\", \"GICS Sector\"]\n",
    "    \n",
    "#     df = df[cols]\n",
    "#     df = df.rename(columns = {\n",
    "#         \"GICS Sector\" : \"Sector\"\n",
    "#     })\n",
    "    \n",
    "    \n",
    "#     return df\n",
    "\n",
    "# replace the \"demo\" apikey below with your own key from https://www.alphavantage.co/support/#api-key\n",
    "alpha_vantage_api_key = \"8MT91WAGYTS1AY12\"\n",
    "etf_symbol = \"QQQ\"\n",
    "\n",
    "def get_qqq_holdings(api_key: str, symbol: str) -> pd.DataFrame:\n",
    "\n",
    "    url = f'https://www.alphavantage.co/query?function=ETF_PROFILE&symbol={symbol}&apikey={api_key}'\n",
    "    response = requests.get(url)\n",
    "    if response.status_code == 200: \n",
    "        json_data = response.json()\n",
    "        holdings_data = json_data[\"holdings\"]\n",
    "        df = pd.DataFrame(holdings_data)\n",
    "    else: \n",
    "        print(\"API request to Alpha Vantage failed.\")\n",
    "\n",
    "    return df\n",
    "\n",
    "df = get_qqq_holdings(alpha_vantage_api_key, etf_symbol)\n",
    "holdings_list = df['symbol'].to_list()\n",
    "\n"
   ]
  },
  {
   "cell_type": "code",
   "execution_count": 5,
   "id": "83ca96b7",
   "metadata": {},
   "outputs": [
    {
     "name": "stdout",
     "output_type": "stream",
     "text": [
      "['NVDA', 'MSFT', 'AAPL', 'AMZN', 'AVGO', 'META', 'NFLX', 'TSLA', 'GOOGL', 'GOOG', 'COST', 'PLTR', 'TMUS', 'AMD', 'CSCO', 'LIN', 'PEP', 'BKNG', 'TXN', 'INTU', 'QCOM', 'SHOP', 'ISRG', 'AMGN', 'ADBE', 'GILD', 'HON', 'APP', 'MU', 'AMAT', 'LRCX', 'CMCSA', 'ADP', 'ADI', 'PANW', 'MELI', 'KLAC', 'SNPS', 'INTC', 'CRWD', 'VRTX', 'SBUX', 'CEG', 'DASH', 'CDNS', 'MSTR', 'CTAS', 'ORLY', 'PDD', 'MDLZ', 'TRI', 'MAR', 'PYPL', 'CSX', 'ASML', 'REGN', 'MRVL', 'ADSK', 'FTNT', 'AXON', 'AEP', 'MNST', 'NXPI', 'ABNB', 'ROP', 'FAST', 'PCAR', 'IDXX', 'PAYX', 'AZN', 'ROST', 'WDAY', 'CPRT', 'KDP', 'EXC', 'BKR', 'ZS', 'DDOG', 'FANG', 'EA', 'XEL', 'CCEP', 'TTWO', 'CSGP', 'CHTR', 'MCHP', 'VRSK', 'CTSH', 'KHC', 'GEHC', 'ODFL', 'DXCM', 'WBD', 'TEAM', 'TTD', 'LULU', 'ON', 'CDW', 'BIIB', 'GFS', 'ARM', 'n/a']\n"
     ]
    }
   ],
   "source": [
    "print(holdings_list)\n"
   ]
  },
  {
   "cell_type": "markdown",
   "id": "70f6b263-7afe-4ab9-8267-fe6d893b06ca",
   "metadata": {},
   "source": [
    "### Extract historical price data from financial modeling prep"
   ]
  },
  {
   "cell_type": "code",
   "execution_count": 6,
   "id": "7c3f2375-2d5c-4ea0-977e-b1478891d7cf",
   "metadata": {},
   "outputs": [],
   "source": [
    "base_url = \"https://financialmodelingprep.com/api\"\n",
    "data_type = \"historical-price-full\"\n",
    "ticker = \"AAPL\"\n",
    "API_KEY = \"fpeni6cREKszyIrgBHXcgvXpAMDEhfjH\"\n",
    "\n",
    "\n",
    "url = f\"{base_url}/v3/{data_type}/{ticker}?apikey={API_KEY}\"\n"
   ]
  },
  {
   "cell_type": "code",
   "execution_count": 14,
   "id": "05b01bd6-479a-448e-8dfe-316d64626578",
   "metadata": {
    "tags": []
   },
   "outputs": [
    {
     "name": "stdout",
     "output_type": "stream",
     "text": [
      "YF.download() has changed argument auto_adjust default to True\n"
     ]
    },
    {
     "name": "stderr",
     "output_type": "stream",
     "text": [
      "[*********************100%***********************]  1 of 1 completed\n"
     ]
    }
   ],
   "source": [
    "def get_historical_price(url: str) -> pd.DataFrame: \n",
    "    response = requests.get(url)\n",
    "    print(response)\n",
    "    data = response.json()\n",
    "    print(data)\n",
    "    symbol, historical_price = data['symbol'], data['historical']\n",
    "    \n",
    "    df_price = pd.DataFrame(historical_price)\n",
    "    s_symbol = pd.Series(symbol, range(len(historical_price))).rename(\"Ticker\")\n",
    "    df_symbol = pd.DataFrame(s_symbol)\n",
    "    \n",
    "    df_sorted = pd.concat([df_symbol, df_price], axis = 1).sort_values(by = \"date\")\n",
    "    df = df_sorted.reset_index(drop = True)\n",
    "    \n",
    "    return df\n",
    "\n",
    "aapl_df = yf.download(\n",
    "    'AAPL',\n",
    "    start='2022-01-01',\n",
    "    end='2023-01-01'\n",
    ")\n"
   ]
  },
  {
   "cell_type": "code",
   "execution_count": 64,
   "id": "2e71ccdc-d464-40ff-8265-a046086647ad",
   "metadata": {},
   "outputs": [],
   "source": [
    "# 🏥📈 Get the historical price for all the healthcare tickers \n",
    "\n",
    "# def get_historical_prices(tickers: list) -> pd.DataFrame: \n",
    "    \n",
    "#     base_url = \"https://financialmodelingprep.com/api\"\n",
    "#     data_type = \"historical-price-full\"\n",
    "#     ticker = \"AAPL\"\n",
    "#     API_KEY = \"fpeni6cREKszyIrgBHXcgvXpAMDEhfjH\"\n",
    "    \n",
    "#     df_agg = pd.DataFrame()\n",
    "    \n",
    "#     for i in range(len(tickers)):\n",
    "#         url = f\"{base_url}/v3/{data_type}/{tickers[i]}?apikey={API_KEY}\"\n",
    "#         df_temp = get_historical_price(url)\n",
    "#         df_agg = pd.concat([df_agg, df_temp], axis = 0)\n",
    "        \n",
    "#     return df_agg\n",
    "\n",
    "def get_historical_prices(tickers): \n",
    "    # data = yf.download(tickers, start = '2024-01-01')\n",
    "    # return data\n",
    "    df = pd.DataFrame()\n",
    "    for ticker in tickers:\n",
    "        stock = yf.Ticker(ticker)\n",
    "        stock_hst = stock.history(period = \"5y\")\n",
    "        symbols_s = pd.Series(ticker, range(len(stock_hst))).rename(\"Ticker\")\n",
    "        symbols_df = pd.DataFrame(data = symbols_s)\n",
    "        stock_df = pd.concat([symbols_df, stock_hst], axis = 1)\n",
    "        print(stock_df)\n",
    "        df = pd.concat([df, stock_df], axis = 0)\n",
    "    \n",
    "    # return df\n",
    "        \n"
   ]
  },
  {
   "cell_type": "code",
   "execution_count": 65,
   "id": "80fac577-703a-4cea-8c9a-a25a05690081",
   "metadata": {},
   "outputs": [
    {
     "name": "stdout",
     "output_type": "stream",
     "text": [
      "                              0        Open        High         Low  \\\n",
      "0                          NVDA         NaN         NaN         NaN   \n",
      "1                          NVDA         NaN         NaN         NaN   \n",
      "2                          NVDA         NaN         NaN         NaN   \n",
      "3                          NVDA         NaN         NaN         NaN   \n",
      "4                          NVDA         NaN         NaN         NaN   \n",
      "...                         ...         ...         ...         ...   \n",
      "2025-08-26 00:00:00-04:00   NaN  180.059998  182.389999  178.809998   \n",
      "2025-08-27 00:00:00-04:00   NaN  181.979996  182.490005  179.100006   \n",
      "2025-08-28 00:00:00-04:00   NaN  180.820007  184.470001  176.410004   \n",
      "2025-08-29 00:00:00-04:00   NaN  178.110001  178.149994  173.149994   \n",
      "2025-09-02 00:00:00-04:00   NaN  170.000000  172.380005  167.220001   \n",
      "\n",
      "                                Close       Volume  Dividends  Stock Splits  \n",
      "0                                 NaN          NaN        NaN           NaN  \n",
      "1                                 NaN          NaN        NaN           NaN  \n",
      "2                                 NaN          NaN        NaN           NaN  \n",
      "3                                 NaN          NaN        NaN           NaN  \n",
      "4                                 NaN          NaN        NaN           NaN  \n",
      "...                               ...          ...        ...           ...  \n",
      "2025-08-26 00:00:00-04:00  181.770004  168688200.0        0.0           0.0  \n",
      "2025-08-27 00:00:00-04:00  181.600006  235518900.0        0.0           0.0  \n",
      "2025-08-28 00:00:00-04:00  180.169998  281787800.0        0.0           0.0  \n",
      "2025-08-29 00:00:00-04:00  174.179993  243257900.0        0.0           0.0  \n",
      "2025-09-02 00:00:00-04:00  170.779999  230476100.0        0.0           0.0  \n",
      "\n",
      "[2508 rows x 8 columns]\n",
      "                              0        Open        High         Low  \\\n",
      "0                          MSFT         NaN         NaN         NaN   \n",
      "1                          MSFT         NaN         NaN         NaN   \n",
      "2                          MSFT         NaN         NaN         NaN   \n",
      "3                          MSFT         NaN         NaN         NaN   \n",
      "4                          MSFT         NaN         NaN         NaN   \n",
      "...                         ...         ...         ...         ...   \n",
      "2025-08-26 00:00:00-04:00   NaN  504.359985  504.980011  498.510010   \n",
      "2025-08-27 00:00:00-04:00   NaN  502.000000  507.290009  499.899994   \n",
      "2025-08-28 00:00:00-04:00   NaN  507.089996  511.089996  505.500000   \n",
      "2025-08-29 00:00:00-04:00   NaN  508.660004  509.600006  504.489990   \n",
      "2025-09-02 00:00:00-04:00   NaN  500.470001  506.000000  496.809998   \n",
      "\n",
      "                                Close      Volume  Dividends  Stock Splits  \n",
      "0                                 NaN         NaN        NaN           NaN  \n",
      "1                                 NaN         NaN        NaN           NaN  \n",
      "2                                 NaN         NaN        NaN           NaN  \n",
      "3                                 NaN         NaN        NaN           NaN  \n",
      "4                                 NaN         NaN        NaN           NaN  \n",
      "...                               ...         ...        ...           ...  \n",
      "2025-08-26 00:00:00-04:00  502.040009  30835700.0        0.0           0.0  \n",
      "2025-08-27 00:00:00-04:00  506.739990  17277900.0        0.0           0.0  \n",
      "2025-08-28 00:00:00-04:00  509.640015  18015600.0        0.0           0.0  \n",
      "2025-08-29 00:00:00-04:00  506.690002  20961600.0        0.0           0.0  \n",
      "2025-09-02 00:00:00-04:00  505.119995  18104100.0        0.0           0.0  \n",
      "\n",
      "[2508 rows x 8 columns]\n",
      "                              0        Open        High         Low  \\\n",
      "0                          AAPL         NaN         NaN         NaN   \n",
      "1                          AAPL         NaN         NaN         NaN   \n",
      "2                          AAPL         NaN         NaN         NaN   \n",
      "3                          AAPL         NaN         NaN         NaN   \n",
      "4                          AAPL         NaN         NaN         NaN   \n",
      "...                         ...         ...         ...         ...   \n",
      "2025-08-26 00:00:00-04:00   NaN  226.869995  229.490005  224.690002   \n",
      "2025-08-27 00:00:00-04:00   NaN  228.610001  230.899994  228.259995   \n",
      "2025-08-28 00:00:00-04:00   NaN  230.820007  233.410004  229.339996   \n",
      "2025-08-29 00:00:00-04:00   NaN  232.509995  233.380005  231.369995   \n",
      "2025-09-02 00:00:00-04:00   NaN  229.250000  230.850006  226.970001   \n",
      "\n",
      "                                Close      Volume  Dividends  Stock Splits  \n",
      "0                                 NaN         NaN        NaN           NaN  \n",
      "1                                 NaN         NaN        NaN           NaN  \n",
      "2                                 NaN         NaN        NaN           NaN  \n",
      "3                                 NaN         NaN        NaN           NaN  \n",
      "4                                 NaN         NaN        NaN           NaN  \n",
      "...                               ...         ...        ...           ...  \n",
      "2025-08-26 00:00:00-04:00  229.309998  54575100.0        0.0           0.0  \n",
      "2025-08-27 00:00:00-04:00  230.490005  31259500.0        0.0           0.0  \n",
      "2025-08-28 00:00:00-04:00  232.559998  38074700.0        0.0           0.0  \n",
      "2025-08-29 00:00:00-04:00  232.139999  39418400.0        0.0           0.0  \n",
      "2025-09-02 00:00:00-04:00  229.720001  43804400.0        0.0           0.0  \n",
      "\n",
      "[2508 rows x 8 columns]\n"
     ]
    }
   ],
   "source": [
    "get_historical_prices(holdings_list[:3])"
   ]
  },
  {
   "cell_type": "code",
   "execution_count": 16,
   "id": "5b796fa0-bb04-4209-9ce4-cfb3d28112ce",
   "metadata": {},
   "outputs": [],
   "source": [
    "# 🗄 Save the dataframe to a csv file: \n",
    "df.to_csv(\"healthcare_stocks.csv\", index = False)"
   ]
  },
  {
   "cell_type": "markdown",
   "id": "70d1c68f-0b41-44d4-879d-f87798330ba7",
   "metadata": {
    "tags": []
   },
   "source": [
    "# Data Transformation"
   ]
  },
  {
   "cell_type": "code",
   "execution_count": 2,
   "id": "8933bce2-dc58-4762-a7a1-918146745441",
   "metadata": {},
   "outputs": [],
   "source": [
    "from sklearn.pipeline import Pipeline\n",
    "from sklearn.base import BaseEstimator, TransformerMixin\n",
    "\n",
    "from ta.momentum import RSIIndicator\n",
    "from ta.volatility import BollingerBands"
   ]
  },
  {
   "cell_type": "markdown",
   "id": "d6060273-f764-48fa-8567-998fdcab8509",
   "metadata": {
    "tags": []
   },
   "source": [
    "### Import the dataset"
   ]
  },
  {
   "cell_type": "code",
   "execution_count": 3,
   "id": "04b12626-1565-462e-a346-f01878d499e9",
   "metadata": {},
   "outputs": [],
   "source": [
    "# Import the dataframe\n",
    "df = pd.read_csv(\"healthcare_stocks.csv\")"
   ]
  },
  {
   "cell_type": "markdown",
   "id": "3764c9b8-0219-46a9-9c1a-da9ddcdb2532",
   "metadata": {
    "tags": []
   },
   "source": [
    "### Create Target Variable\n",
    "1. Calculate weekly log returns"
   ]
  },
  {
   "cell_type": "code",
   "execution_count": 4,
   "id": "8e813c60-ee5e-4304-a2ed-33afe35dbd58",
   "metadata": {},
   "outputs": [],
   "source": [
    "# Calculate weekly returns:\n",
    "def calculate_weekly_returns(df: pd.DataFrame) -> pd.DataFrame:\n",
    "    df['weekly_return'] = df.groupby('Ticker')['adjClose'].pct_change(periods = -5)\n",
    "    df = df.dropna(subset = [\"weekly_return\"])\n",
    "    \n",
    "    df[\"weekly_log_return\"] = np.log(1 + df[\"weekly_return\"])\n",
    "    \n",
    "    return df"
   ]
  },
  {
   "cell_type": "code",
   "execution_count": 5,
   "id": "22c8060d-f08e-491c-90d2-5a03ffcde078",
   "metadata": {},
   "outputs": [
    {
     "name": "stderr",
     "output_type": "stream",
     "text": [
      "/var/folders/gl/wt1cfyrs16358nbd8jfg3k700000gn/T/ipykernel_24254/3520592536.py:6: SettingWithCopyWarning: \n",
      "A value is trying to be set on a copy of a slice from a DataFrame.\n",
      "Try using .loc[row_indexer,col_indexer] = value instead\n",
      "\n",
      "See the caveats in the documentation: https://pandas.pydata.org/pandas-docs/stable/user_guide/indexing.html#returning-a-view-versus-a-copy\n",
      "  df[\"weekly_log_return\"] = np.log(1 + df[\"weekly_return\"])\n"
     ]
    },
    {
     "data": {
      "text/html": [
       "<div>\n",
       "<style scoped>\n",
       "    .dataframe tbody tr th:only-of-type {\n",
       "        vertical-align: middle;\n",
       "    }\n",
       "\n",
       "    .dataframe tbody tr th {\n",
       "        vertical-align: top;\n",
       "    }\n",
       "\n",
       "    .dataframe thead th {\n",
       "        text-align: right;\n",
       "    }\n",
       "</style>\n",
       "<table border=\"1\" class=\"dataframe\">\n",
       "  <thead>\n",
       "    <tr style=\"text-align: right;\">\n",
       "      <th></th>\n",
       "      <th>Ticker</th>\n",
       "      <th>date</th>\n",
       "      <th>open</th>\n",
       "      <th>high</th>\n",
       "      <th>low</th>\n",
       "      <th>close</th>\n",
       "      <th>adjClose</th>\n",
       "      <th>volume</th>\n",
       "      <th>unadjustedVolume</th>\n",
       "      <th>change</th>\n",
       "      <th>changePercent</th>\n",
       "      <th>vwap</th>\n",
       "      <th>label</th>\n",
       "      <th>changeOverTime</th>\n",
       "      <th>weekly_return</th>\n",
       "      <th>weekly_log_return</th>\n",
       "    </tr>\n",
       "  </thead>\n",
       "  <tbody>\n",
       "    <tr>\n",
       "      <th>0</th>\n",
       "      <td>ABT</td>\n",
       "      <td>2020-06-15</td>\n",
       "      <td>87.52</td>\n",
       "      <td>90.35</td>\n",
       "      <td>87.05</td>\n",
       "      <td>89.55</td>\n",
       "      <td>81.96</td>\n",
       "      <td>5667401</td>\n",
       "      <td>5667401</td>\n",
       "      <td>2.03</td>\n",
       "      <td>2.32000</td>\n",
       "      <td>88.6175</td>\n",
       "      <td>June 15, 20</td>\n",
       "      <td>0.023200</td>\n",
       "      <td>-0.008708</td>\n",
       "      <td>-0.008746</td>\n",
       "    </tr>\n",
       "    <tr>\n",
       "      <th>1</th>\n",
       "      <td>ABT</td>\n",
       "      <td>2020-06-16</td>\n",
       "      <td>90.62</td>\n",
       "      <td>91.76</td>\n",
       "      <td>89.14</td>\n",
       "      <td>89.74</td>\n",
       "      <td>82.13</td>\n",
       "      <td>6144086</td>\n",
       "      <td>6144086</td>\n",
       "      <td>-0.88</td>\n",
       "      <td>-0.97109</td>\n",
       "      <td>90.3150</td>\n",
       "      <td>June 16, 20</td>\n",
       "      <td>-0.009711</td>\n",
       "      <td>-0.017113</td>\n",
       "      <td>-0.017262</td>\n",
       "    </tr>\n",
       "    <tr>\n",
       "      <th>2</th>\n",
       "      <td>ABT</td>\n",
       "      <td>2020-06-17</td>\n",
       "      <td>90.42</td>\n",
       "      <td>91.67</td>\n",
       "      <td>90.10</td>\n",
       "      <td>90.90</td>\n",
       "      <td>83.19</td>\n",
       "      <td>4359470</td>\n",
       "      <td>4359470</td>\n",
       "      <td>0.48</td>\n",
       "      <td>0.53086</td>\n",
       "      <td>90.7725</td>\n",
       "      <td>June 17, 20</td>\n",
       "      <td>0.005309</td>\n",
       "      <td>0.041176</td>\n",
       "      <td>0.040351</td>\n",
       "    </tr>\n",
       "  </tbody>\n",
       "</table>\n",
       "</div>"
      ],
      "text/plain": [
       "  Ticker        date   open   high    low  close  adjClose   volume  \\\n",
       "0    ABT  2020-06-15  87.52  90.35  87.05  89.55     81.96  5667401   \n",
       "1    ABT  2020-06-16  90.62  91.76  89.14  89.74     82.13  6144086   \n",
       "2    ABT  2020-06-17  90.42  91.67  90.10  90.90     83.19  4359470   \n",
       "\n",
       "   unadjustedVolume  change  changePercent     vwap        label  \\\n",
       "0           5667401    2.03        2.32000  88.6175  June 15, 20   \n",
       "1           6144086   -0.88       -0.97109  90.3150  June 16, 20   \n",
       "2           4359470    0.48        0.53086  90.7725  June 17, 20   \n",
       "\n",
       "   changeOverTime  weekly_return  weekly_log_return  \n",
       "0        0.023200      -0.008708          -0.008746  \n",
       "1       -0.009711      -0.017113          -0.017262  \n",
       "2        0.005309       0.041176           0.040351  "
      ]
     },
     "execution_count": 5,
     "metadata": {},
     "output_type": "execute_result"
    }
   ],
   "source": [
    "df = calculate_weekly_returns(df)\n",
    "df.head(3)"
   ]
  },
  {
   "cell_type": "markdown",
   "id": "a0eef8ae-3fc7-4f49-92df-10d0a9a56ba3",
   "metadata": {},
   "source": [
    "2. 🎯 Create Target Variable"
   ]
  },
  {
   "cell_type": "code",
   "execution_count": 6,
   "id": "2f3cef74-50ce-4f1b-8003-24a7fc5ac476",
   "metadata": {},
   "outputs": [],
   "source": [
    "def create_target_variable(df: pd.DataFrame) -> pd.DataFrame:\n",
    "    \n",
    "    df = df.copy()\n",
    "    \n",
    "    df['date'] = pd.to_datetime(df['date'])\n",
    "    df['year_week'] = df['date'].dt.strftime('%Y-%U')\n",
    "    \n",
    "    median_returns = df.groupby('year_week')['weekly_log_return'].median().reset_index()\n",
    "    median_returns.columns = ['year_week', 'median_weekly_return']\n",
    "    \n",
    "    # Merge median returns back to original dataframe\n",
    "    if 'median_weekly_return' not in df.columns:\n",
    "        df = pd.merge(df, median_returns, on='year_week', how='left')\n",
    "        \n",
    "    df['target'] = (df['weekly_log_return'] > df['median_weekly_return']).astype(int)\n",
    "    \n",
    "    return df"
   ]
  },
  {
   "cell_type": "code",
   "execution_count": 7,
   "id": "da0e32fa-f61c-49a5-80dc-42ee2e4e2da2",
   "metadata": {},
   "outputs": [
    {
     "data": {
      "text/html": [
       "<div>\n",
       "<style scoped>\n",
       "    .dataframe tbody tr th:only-of-type {\n",
       "        vertical-align: middle;\n",
       "    }\n",
       "\n",
       "    .dataframe tbody tr th {\n",
       "        vertical-align: top;\n",
       "    }\n",
       "\n",
       "    .dataframe thead th {\n",
       "        text-align: right;\n",
       "    }\n",
       "</style>\n",
       "<table border=\"1\" class=\"dataframe\">\n",
       "  <thead>\n",
       "    <tr style=\"text-align: right;\">\n",
       "      <th></th>\n",
       "      <th>Ticker</th>\n",
       "      <th>date</th>\n",
       "      <th>open</th>\n",
       "      <th>high</th>\n",
       "      <th>low</th>\n",
       "      <th>close</th>\n",
       "      <th>adjClose</th>\n",
       "      <th>volume</th>\n",
       "      <th>unadjustedVolume</th>\n",
       "      <th>change</th>\n",
       "      <th>changePercent</th>\n",
       "      <th>vwap</th>\n",
       "      <th>label</th>\n",
       "      <th>changeOverTime</th>\n",
       "      <th>weekly_return</th>\n",
       "      <th>weekly_log_return</th>\n",
       "      <th>year_week</th>\n",
       "      <th>median_weekly_return</th>\n",
       "      <th>target</th>\n",
       "    </tr>\n",
       "  </thead>\n",
       "  <tbody>\n",
       "    <tr>\n",
       "      <th>0</th>\n",
       "      <td>ABT</td>\n",
       "      <td>2020-06-15</td>\n",
       "      <td>87.52</td>\n",
       "      <td>90.35</td>\n",
       "      <td>87.05</td>\n",
       "      <td>89.55</td>\n",
       "      <td>81.96</td>\n",
       "      <td>5667401</td>\n",
       "      <td>5667401</td>\n",
       "      <td>2.03</td>\n",
       "      <td>2.32000</td>\n",
       "      <td>88.6175</td>\n",
       "      <td>June 15, 20</td>\n",
       "      <td>0.023200</td>\n",
       "      <td>-0.008708</td>\n",
       "      <td>-0.008746</td>\n",
       "      <td>2020-24</td>\n",
       "      <td>0.007935</td>\n",
       "      <td>0</td>\n",
       "    </tr>\n",
       "    <tr>\n",
       "      <th>1</th>\n",
       "      <td>ABT</td>\n",
       "      <td>2020-06-16</td>\n",
       "      <td>90.62</td>\n",
       "      <td>91.76</td>\n",
       "      <td>89.14</td>\n",
       "      <td>89.74</td>\n",
       "      <td>82.13</td>\n",
       "      <td>6144086</td>\n",
       "      <td>6144086</td>\n",
       "      <td>-0.88</td>\n",
       "      <td>-0.97109</td>\n",
       "      <td>90.3150</td>\n",
       "      <td>June 16, 20</td>\n",
       "      <td>-0.009711</td>\n",
       "      <td>-0.017113</td>\n",
       "      <td>-0.017262</td>\n",
       "      <td>2020-24</td>\n",
       "      <td>0.007935</td>\n",
       "      <td>0</td>\n",
       "    </tr>\n",
       "    <tr>\n",
       "      <th>2</th>\n",
       "      <td>ABT</td>\n",
       "      <td>2020-06-17</td>\n",
       "      <td>90.42</td>\n",
       "      <td>91.67</td>\n",
       "      <td>90.10</td>\n",
       "      <td>90.90</td>\n",
       "      <td>83.19</td>\n",
       "      <td>4359470</td>\n",
       "      <td>4359470</td>\n",
       "      <td>0.48</td>\n",
       "      <td>0.53086</td>\n",
       "      <td>90.7725</td>\n",
       "      <td>June 17, 20</td>\n",
       "      <td>0.005309</td>\n",
       "      <td>0.041176</td>\n",
       "      <td>0.040351</td>\n",
       "      <td>2020-24</td>\n",
       "      <td>0.007935</td>\n",
       "      <td>1</td>\n",
       "    </tr>\n",
       "  </tbody>\n",
       "</table>\n",
       "</div>"
      ],
      "text/plain": [
       "  Ticker       date   open   high    low  close  adjClose   volume  \\\n",
       "0    ABT 2020-06-15  87.52  90.35  87.05  89.55     81.96  5667401   \n",
       "1    ABT 2020-06-16  90.62  91.76  89.14  89.74     82.13  6144086   \n",
       "2    ABT 2020-06-17  90.42  91.67  90.10  90.90     83.19  4359470   \n",
       "\n",
       "   unadjustedVolume  change  changePercent     vwap        label  \\\n",
       "0           5667401    2.03        2.32000  88.6175  June 15, 20   \n",
       "1           6144086   -0.88       -0.97109  90.3150  June 16, 20   \n",
       "2           4359470    0.48        0.53086  90.7725  June 17, 20   \n",
       "\n",
       "   changeOverTime  weekly_return  weekly_log_return year_week  \\\n",
       "0        0.023200      -0.008708          -0.008746   2020-24   \n",
       "1       -0.009711      -0.017113          -0.017262   2020-24   \n",
       "2        0.005309       0.041176           0.040351   2020-24   \n",
       "\n",
       "   median_weekly_return  target  \n",
       "0              0.007935       0  \n",
       "1              0.007935       0  \n",
       "2              0.007935       1  "
      ]
     },
     "execution_count": 7,
     "metadata": {},
     "output_type": "execute_result"
    }
   ],
   "source": [
    "df = create_target_variable(df)\n",
    "df.head(3)"
   ]
  },
  {
   "cell_type": "code",
   "execution_count": 8,
   "id": "1d7f3124-7721-4445-9b7e-df47063b1824",
   "metadata": {},
   "outputs": [],
   "source": [
    "# 🗂 Create the panel dataset indexed by date and tickers\n",
    "# This line of code could definitely be simpler.\n",
    "def create_panel_dataset(df: pd.DataFrame) -> pd.DataFrame:\n",
    "    df_sorted = df.sort_values(by = \"date\")\n",
    "    if \"date\" in df.columns and \"Ticker\" in df.columns: \n",
    "        # df = df_sorted.set_index(['date', 'Ticker'])\n",
    "        df = df_sorted\n",
    "    return df"
   ]
  },
  {
   "cell_type": "code",
   "execution_count": 9,
   "id": "d67ae9ba-0c17-46f4-9f88-3507af2f9029",
   "metadata": {},
   "outputs": [
    {
     "data": {
      "text/html": [
       "<div>\n",
       "<style scoped>\n",
       "    .dataframe tbody tr th:only-of-type {\n",
       "        vertical-align: middle;\n",
       "    }\n",
       "\n",
       "    .dataframe tbody tr th {\n",
       "        vertical-align: top;\n",
       "    }\n",
       "\n",
       "    .dataframe thead th {\n",
       "        text-align: right;\n",
       "    }\n",
       "</style>\n",
       "<table border=\"1\" class=\"dataframe\">\n",
       "  <thead>\n",
       "    <tr style=\"text-align: right;\">\n",
       "      <th></th>\n",
       "      <th>Ticker</th>\n",
       "      <th>date</th>\n",
       "      <th>open</th>\n",
       "      <th>high</th>\n",
       "      <th>low</th>\n",
       "      <th>close</th>\n",
       "      <th>adjClose</th>\n",
       "      <th>volume</th>\n",
       "      <th>unadjustedVolume</th>\n",
       "      <th>change</th>\n",
       "      <th>changePercent</th>\n",
       "      <th>vwap</th>\n",
       "      <th>label</th>\n",
       "      <th>changeOverTime</th>\n",
       "      <th>weekly_return</th>\n",
       "      <th>weekly_log_return</th>\n",
       "      <th>year_week</th>\n",
       "      <th>median_weekly_return</th>\n",
       "      <th>target</th>\n",
       "    </tr>\n",
       "  </thead>\n",
       "  <tbody>\n",
       "    <tr>\n",
       "      <th>0</th>\n",
       "      <td>ABT</td>\n",
       "      <td>2020-06-15</td>\n",
       "      <td>87.52</td>\n",
       "      <td>90.35</td>\n",
       "      <td>87.05</td>\n",
       "      <td>89.55</td>\n",
       "      <td>81.96</td>\n",
       "      <td>5667401</td>\n",
       "      <td>5667401</td>\n",
       "      <td>2.03</td>\n",
       "      <td>2.32</td>\n",
       "      <td>88.6175</td>\n",
       "      <td>June 15, 20</td>\n",
       "      <td>0.0232</td>\n",
       "      <td>-0.008708</td>\n",
       "      <td>-0.008746</td>\n",
       "      <td>2020-24</td>\n",
       "      <td>0.007935</td>\n",
       "      <td>0</td>\n",
       "    </tr>\n",
       "    <tr>\n",
       "      <th>36928</th>\n",
       "      <td>INCY</td>\n",
       "      <td>2020-06-15</td>\n",
       "      <td>90.49</td>\n",
       "      <td>93.95</td>\n",
       "      <td>90.47</td>\n",
       "      <td>93.51</td>\n",
       "      <td>93.51</td>\n",
       "      <td>1281635</td>\n",
       "      <td>1281600</td>\n",
       "      <td>3.02</td>\n",
       "      <td>3.34</td>\n",
       "      <td>92.4900</td>\n",
       "      <td>June 15, 20</td>\n",
       "      <td>0.0334</td>\n",
       "      <td>-0.141559</td>\n",
       "      <td>-0.152637</td>\n",
       "      <td>2020-24</td>\n",
       "      <td>0.007935</td>\n",
       "      <td>0</td>\n",
       "    </tr>\n",
       "    <tr>\n",
       "      <th>38180</th>\n",
       "      <td>PODD</td>\n",
       "      <td>2020-06-15</td>\n",
       "      <td>178.38</td>\n",
       "      <td>185.16</td>\n",
       "      <td>175.35</td>\n",
       "      <td>184.80</td>\n",
       "      <td>184.80</td>\n",
       "      <td>872043</td>\n",
       "      <td>871900</td>\n",
       "      <td>6.42</td>\n",
       "      <td>3.60</td>\n",
       "      <td>183.4400</td>\n",
       "      <td>June 15, 20</td>\n",
       "      <td>0.0360</td>\n",
       "      <td>-0.084922</td>\n",
       "      <td>-0.088746</td>\n",
       "      <td>2020-24</td>\n",
       "      <td>0.007935</td>\n",
       "      <td>0</td>\n",
       "    </tr>\n",
       "  </tbody>\n",
       "</table>\n",
       "</div>"
      ],
      "text/plain": [
       "      Ticker       date    open    high     low   close  adjClose   volume  \\\n",
       "0        ABT 2020-06-15   87.52   90.35   87.05   89.55     81.96  5667401   \n",
       "36928   INCY 2020-06-15   90.49   93.95   90.47   93.51     93.51  1281635   \n",
       "38180   PODD 2020-06-15  178.38  185.16  175.35  184.80    184.80   872043   \n",
       "\n",
       "       unadjustedVolume  change  changePercent      vwap        label  \\\n",
       "0               5667401    2.03           2.32   88.6175  June 15, 20   \n",
       "36928           1281600    3.02           3.34   92.4900  June 15, 20   \n",
       "38180            871900    6.42           3.60  183.4400  June 15, 20   \n",
       "\n",
       "       changeOverTime  weekly_return  weekly_log_return year_week  \\\n",
       "0              0.0232      -0.008708          -0.008746   2020-24   \n",
       "36928          0.0334      -0.141559          -0.152637   2020-24   \n",
       "38180          0.0360      -0.084922          -0.088746   2020-24   \n",
       "\n",
       "       median_weekly_return  target  \n",
       "0                  0.007935       0  \n",
       "36928              0.007935       0  \n",
       "38180              0.007935       0  "
      ]
     },
     "execution_count": 9,
     "metadata": {},
     "output_type": "execute_result"
    }
   ],
   "source": [
    "# This step could be moved to the pipeline\n",
    "df = create_panel_dataset(df)\n",
    "df.head(3)"
   ]
  },
  {
   "cell_type": "code",
   "execution_count": 10,
   "id": "14ea286b-1247-4c3e-b1df-2746f3c02372",
   "metadata": {},
   "outputs": [],
   "source": [
    "# 🗑 Remove columns that will not be used for the project\n",
    "def remove_columns(cols: list, df: pd.DataFrame) -> pd.DataFrame:\n",
    "    for i in range(len(cols)):\n",
    "        if cols[i] in df.columns:\n",
    "            df = df.drop(cols[i], axis = 1)\n",
    "    return df"
   ]
  },
  {
   "cell_type": "code",
   "execution_count": 11,
   "id": "6a17ea4b-6b23-4a5c-a6e0-0798049983d4",
   "metadata": {},
   "outputs": [
    {
     "data": {
      "text/html": [
       "<div>\n",
       "<style scoped>\n",
       "    .dataframe tbody tr th:only-of-type {\n",
       "        vertical-align: middle;\n",
       "    }\n",
       "\n",
       "    .dataframe tbody tr th {\n",
       "        vertical-align: top;\n",
       "    }\n",
       "\n",
       "    .dataframe thead th {\n",
       "        text-align: right;\n",
       "    }\n",
       "</style>\n",
       "<table border=\"1\" class=\"dataframe\">\n",
       "  <thead>\n",
       "    <tr style=\"text-align: right;\">\n",
       "      <th></th>\n",
       "      <th>Ticker</th>\n",
       "      <th>date</th>\n",
       "      <th>adjClose</th>\n",
       "      <th>volume</th>\n",
       "      <th>vwap</th>\n",
       "      <th>weekly_log_return</th>\n",
       "      <th>target</th>\n",
       "    </tr>\n",
       "  </thead>\n",
       "  <tbody>\n",
       "    <tr>\n",
       "      <th>0</th>\n",
       "      <td>ABT</td>\n",
       "      <td>2020-06-15</td>\n",
       "      <td>81.96</td>\n",
       "      <td>5667401</td>\n",
       "      <td>88.6175</td>\n",
       "      <td>-0.008746</td>\n",
       "      <td>0</td>\n",
       "    </tr>\n",
       "    <tr>\n",
       "      <th>36928</th>\n",
       "      <td>INCY</td>\n",
       "      <td>2020-06-15</td>\n",
       "      <td>93.51</td>\n",
       "      <td>1281635</td>\n",
       "      <td>92.4900</td>\n",
       "      <td>-0.152637</td>\n",
       "      <td>0</td>\n",
       "    </tr>\n",
       "    <tr>\n",
       "      <th>38180</th>\n",
       "      <td>PODD</td>\n",
       "      <td>2020-06-15</td>\n",
       "      <td>184.80</td>\n",
       "      <td>872043</td>\n",
       "      <td>183.4400</td>\n",
       "      <td>-0.088746</td>\n",
       "      <td>0</td>\n",
       "    </tr>\n",
       "  </tbody>\n",
       "</table>\n",
       "</div>"
      ],
      "text/plain": [
       "      Ticker       date  adjClose   volume      vwap  weekly_log_return  \\\n",
       "0        ABT 2020-06-15     81.96  5667401   88.6175          -0.008746   \n",
       "36928   INCY 2020-06-15     93.51  1281635   92.4900          -0.152637   \n",
       "38180   PODD 2020-06-15    184.80   872043  183.4400          -0.088746   \n",
       "\n",
       "       target  \n",
       "0           0  \n",
       "36928       0  \n",
       "38180       0  "
      ]
     },
     "execution_count": 11,
     "metadata": {},
     "output_type": "execute_result"
    }
   ],
   "source": [
    "cols = [\"open\", \"high\", \"low\", \"close\", \"unadjustedVolume\", \"change\", \n",
    "        \"changePercent\", \"label\", \"changeOverTime\", \"weekly_return\", \n",
    "       \"year_week\", \"median_weekly_return\"]\n",
    "df = remove_columns(cols, df)\n",
    "df.head(3)"
   ]
  },
  {
   "cell_type": "markdown",
   "id": "fa9d4778-bdd4-4969-90dd-9678810a03f6",
   "metadata": {},
   "source": [
    "2. Calculate moving averages"
   ]
  },
  {
   "cell_type": "code",
   "execution_count": 12,
   "id": "da58ab1e-a61f-4463-8358-eb489c3c3d00",
   "metadata": {},
   "outputs": [],
   "source": [
    "#📈 Log Moving Averages\n",
    "\n",
    "def calc_log_moving_avg(window: int, df: pd.DataFrame) -> pd.DataFrame:\n",
    "    col_name = f'MA_{str(window)}'\n",
    "    df[col_name] = df.groupby('Ticker')['adjClose'].transform(\n",
    "        lambda x: x.rolling(window = window, min_periods = 1).mean()\n",
    "    )\n",
    "    \n",
    "    return df\n"
   ]
  },
  {
   "cell_type": "code",
   "execution_count": 13,
   "id": "a9859a3f-d491-4269-8754-bcb0b97a0541",
   "metadata": {},
   "outputs": [],
   "source": [
    "def calc_log_moving_avgs(windows: list, df: pd.DataFrame) -> pd.DataFrame: \n",
    "    for window in windows: \n",
    "        df = calc_log_moving_avg(window, df)\n",
    "    return df"
   ]
  },
  {
   "cell_type": "code",
   "execution_count": 14,
   "id": "f222caa0-e5e6-41e0-b1e0-c554203f97e9",
   "metadata": {},
   "outputs": [
    {
     "data": {
      "text/html": [
       "<div>\n",
       "<style scoped>\n",
       "    .dataframe tbody tr th:only-of-type {\n",
       "        vertical-align: middle;\n",
       "    }\n",
       "\n",
       "    .dataframe tbody tr th {\n",
       "        vertical-align: top;\n",
       "    }\n",
       "\n",
       "    .dataframe thead th {\n",
       "        text-align: right;\n",
       "    }\n",
       "</style>\n",
       "<table border=\"1\" class=\"dataframe\">\n",
       "  <thead>\n",
       "    <tr style=\"text-align: right;\">\n",
       "      <th></th>\n",
       "      <th>Ticker</th>\n",
       "      <th>date</th>\n",
       "      <th>adjClose</th>\n",
       "      <th>volume</th>\n",
       "      <th>vwap</th>\n",
       "      <th>weekly_log_return</th>\n",
       "      <th>target</th>\n",
       "      <th>MA_200</th>\n",
       "      <th>MA_100</th>\n",
       "      <th>MA_50</th>\n",
       "    </tr>\n",
       "  </thead>\n",
       "  <tbody>\n",
       "    <tr>\n",
       "      <th>0</th>\n",
       "      <td>ABT</td>\n",
       "      <td>2020-06-15</td>\n",
       "      <td>81.96</td>\n",
       "      <td>5667401</td>\n",
       "      <td>88.6175</td>\n",
       "      <td>-0.008746</td>\n",
       "      <td>0</td>\n",
       "      <td>81.96</td>\n",
       "      <td>81.96</td>\n",
       "      <td>81.96</td>\n",
       "    </tr>\n",
       "    <tr>\n",
       "      <th>36928</th>\n",
       "      <td>INCY</td>\n",
       "      <td>2020-06-15</td>\n",
       "      <td>93.51</td>\n",
       "      <td>1281635</td>\n",
       "      <td>92.4900</td>\n",
       "      <td>-0.152637</td>\n",
       "      <td>0</td>\n",
       "      <td>93.51</td>\n",
       "      <td>93.51</td>\n",
       "      <td>93.51</td>\n",
       "    </tr>\n",
       "    <tr>\n",
       "      <th>38180</th>\n",
       "      <td>PODD</td>\n",
       "      <td>2020-06-15</td>\n",
       "      <td>184.80</td>\n",
       "      <td>872043</td>\n",
       "      <td>183.4400</td>\n",
       "      <td>-0.088746</td>\n",
       "      <td>0</td>\n",
       "      <td>184.80</td>\n",
       "      <td>184.80</td>\n",
       "      <td>184.80</td>\n",
       "    </tr>\n",
       "  </tbody>\n",
       "</table>\n",
       "</div>"
      ],
      "text/plain": [
       "      Ticker       date  adjClose   volume      vwap  weekly_log_return  \\\n",
       "0        ABT 2020-06-15     81.96  5667401   88.6175          -0.008746   \n",
       "36928   INCY 2020-06-15     93.51  1281635   92.4900          -0.152637   \n",
       "38180   PODD 2020-06-15    184.80   872043  183.4400          -0.088746   \n",
       "\n",
       "       target  MA_200  MA_100   MA_50  \n",
       "0           0   81.96   81.96   81.96  \n",
       "36928       0   93.51   93.51   93.51  \n",
       "38180       0  184.80  184.80  184.80  "
      ]
     },
     "execution_count": 14,
     "metadata": {},
     "output_type": "execute_result"
    }
   ],
   "source": [
    "windows = [200, 100, 50]\n",
    "df = calc_log_moving_avgs(windows, df)\n",
    "df.head(3)"
   ]
  },
  {
   "cell_type": "markdown",
   "id": "c30a51a9-2ec5-4b14-8c45-f9e1f3b965ad",
   "metadata": {},
   "source": [
    "### Risk and Volatility"
   ]
  },
  {
   "cell_type": "code",
   "execution_count": 15,
   "id": "ad7c7659-1956-477b-860b-2a5033572f2e",
   "metadata": {},
   "outputs": [],
   "source": [
    "def calc_volatility(col_name: str, window: int, df: pd.DataFrame) -> pd.DataFrame: \n",
    "    df[col_name] = df.groupby('Ticker')['weekly_log_return'].transform(\n",
    "        lambda x: x.rolling(window = window, min_periods = 1).std() * np.sqrt(window)\n",
    "    )\n",
    "    \n",
    "    return df"
   ]
  },
  {
   "cell_type": "code",
   "execution_count": 16,
   "id": "56de3770-04c6-4cbf-a4fd-e06c943f2a5f",
   "metadata": {},
   "outputs": [],
   "source": [
    "def calc_volatilties(volatility_dict: dict, df: pd.DataFrame) -> pd.DataFrame: \n",
    "    for col_name, window in volatility_dict.items():\n",
    "        df = calc_volatility(col_name, window, df)\n",
    "    return df"
   ]
  },
  {
   "cell_type": "code",
   "execution_count": 17,
   "id": "469b74b6-49bb-4a8a-afac-4b915388c9c7",
   "metadata": {},
   "outputs": [
    {
     "data": {
      "text/html": [
       "<div>\n",
       "<style scoped>\n",
       "    .dataframe tbody tr th:only-of-type {\n",
       "        vertical-align: middle;\n",
       "    }\n",
       "\n",
       "    .dataframe tbody tr th {\n",
       "        vertical-align: top;\n",
       "    }\n",
       "\n",
       "    .dataframe thead th {\n",
       "        text-align: right;\n",
       "    }\n",
       "</style>\n",
       "<table border=\"1\" class=\"dataframe\">\n",
       "  <thead>\n",
       "    <tr style=\"text-align: right;\">\n",
       "      <th></th>\n",
       "      <th>Ticker</th>\n",
       "      <th>date</th>\n",
       "      <th>adjClose</th>\n",
       "      <th>volume</th>\n",
       "      <th>vwap</th>\n",
       "      <th>weekly_log_return</th>\n",
       "      <th>target</th>\n",
       "      <th>MA_200</th>\n",
       "      <th>MA_100</th>\n",
       "      <th>MA_50</th>\n",
       "      <th>vol_1M</th>\n",
       "      <th>vol_6M</th>\n",
       "      <th>vol_12M</th>\n",
       "    </tr>\n",
       "  </thead>\n",
       "  <tbody>\n",
       "    <tr>\n",
       "      <th>0</th>\n",
       "      <td>ABT</td>\n",
       "      <td>2020-06-15</td>\n",
       "      <td>81.96</td>\n",
       "      <td>5667401</td>\n",
       "      <td>88.6175</td>\n",
       "      <td>-0.008746</td>\n",
       "      <td>0</td>\n",
       "      <td>81.96</td>\n",
       "      <td>81.96</td>\n",
       "      <td>81.96</td>\n",
       "      <td>NaN</td>\n",
       "      <td>NaN</td>\n",
       "      <td>NaN</td>\n",
       "    </tr>\n",
       "    <tr>\n",
       "      <th>36928</th>\n",
       "      <td>INCY</td>\n",
       "      <td>2020-06-15</td>\n",
       "      <td>93.51</td>\n",
       "      <td>1281635</td>\n",
       "      <td>92.4900</td>\n",
       "      <td>-0.152637</td>\n",
       "      <td>0</td>\n",
       "      <td>93.51</td>\n",
       "      <td>93.51</td>\n",
       "      <td>93.51</td>\n",
       "      <td>NaN</td>\n",
       "      <td>NaN</td>\n",
       "      <td>NaN</td>\n",
       "    </tr>\n",
       "    <tr>\n",
       "      <th>38180</th>\n",
       "      <td>PODD</td>\n",
       "      <td>2020-06-15</td>\n",
       "      <td>184.80</td>\n",
       "      <td>872043</td>\n",
       "      <td>183.4400</td>\n",
       "      <td>-0.088746</td>\n",
       "      <td>0</td>\n",
       "      <td>184.80</td>\n",
       "      <td>184.80</td>\n",
       "      <td>184.80</td>\n",
       "      <td>NaN</td>\n",
       "      <td>NaN</td>\n",
       "      <td>NaN</td>\n",
       "    </tr>\n",
       "  </tbody>\n",
       "</table>\n",
       "</div>"
      ],
      "text/plain": [
       "      Ticker       date  adjClose   volume      vwap  weekly_log_return  \\\n",
       "0        ABT 2020-06-15     81.96  5667401   88.6175          -0.008746   \n",
       "36928   INCY 2020-06-15     93.51  1281635   92.4900          -0.152637   \n",
       "38180   PODD 2020-06-15    184.80   872043  183.4400          -0.088746   \n",
       "\n",
       "       target  MA_200  MA_100   MA_50  vol_1M  vol_6M  vol_12M  \n",
       "0           0   81.96   81.96   81.96     NaN     NaN      NaN  \n",
       "36928       0   93.51   93.51   93.51     NaN     NaN      NaN  \n",
       "38180       0  184.80  184.80  184.80     NaN     NaN      NaN  "
      ]
     },
     "execution_count": 17,
     "metadata": {},
     "output_type": "execute_result"
    }
   ],
   "source": [
    "volatility_dict = {\n",
    "    'vol_1M': 4,    # 1 month ≈ 4 weeks\n",
    "    'vol_6M': 26,   # 6 months ≈ 26 weeks\n",
    "    'vol_12M': 52   # 12 months ≈ 52 weeks\n",
    "}\n",
    "\n",
    "df = calc_volatilties(volatility_dict, df)\n",
    "#df = df.dropna(subset = ['vol_1M', 'vol_6M','vol_12M'])\n",
    "\n",
    "df.head(3)"
   ]
  },
  {
   "cell_type": "markdown",
   "id": "6164d21c-1cac-4b4d-856e-3b4691ed5445",
   "metadata": {},
   "source": [
    "### Short Term Reversal Factors"
   ]
  },
  {
   "cell_type": "code",
   "execution_count": 18,
   "id": "124bb6ef-99b2-498c-9d13-bd33978fdbde",
   "metadata": {},
   "outputs": [],
   "source": [
    "def calculate_rsi(window, group): \n",
    "    rsi = RSIIndicator(close = group['adjClose'], window = window).rsi()\n",
    "    return rsi"
   ]
  },
  {
   "cell_type": "code",
   "execution_count": 19,
   "id": "b406186f-c85d-4be3-b841-097ec495aa45",
   "metadata": {},
   "outputs": [],
   "source": [
    "def calculate_rsis(windows: list, df: pd.DataFrame) -> pd.DataFrame: \n",
    "    for window in windows: \n",
    "        col_name = f'RSI_{str(window)}'\n",
    "        group = df.groupby('Ticker', group_keys = False)\n",
    "        df[col_name] = group.apply(lambda x: calculate_rsi(window, x))\n",
    "        \n",
    "    return df"
   ]
  },
  {
   "cell_type": "code",
   "execution_count": 20,
   "id": "c815ff5d-440c-4335-9a33-e27470f3ed1f",
   "metadata": {},
   "outputs": [
    {
     "data": {
      "text/html": [
       "<div>\n",
       "<style scoped>\n",
       "    .dataframe tbody tr th:only-of-type {\n",
       "        vertical-align: middle;\n",
       "    }\n",
       "\n",
       "    .dataframe tbody tr th {\n",
       "        vertical-align: top;\n",
       "    }\n",
       "\n",
       "    .dataframe thead th {\n",
       "        text-align: right;\n",
       "    }\n",
       "</style>\n",
       "<table border=\"1\" class=\"dataframe\">\n",
       "  <thead>\n",
       "    <tr style=\"text-align: right;\">\n",
       "      <th></th>\n",
       "      <th>Ticker</th>\n",
       "      <th>date</th>\n",
       "      <th>adjClose</th>\n",
       "      <th>volume</th>\n",
       "      <th>vwap</th>\n",
       "      <th>weekly_log_return</th>\n",
       "      <th>target</th>\n",
       "      <th>MA_200</th>\n",
       "      <th>MA_100</th>\n",
       "      <th>MA_50</th>\n",
       "      <th>vol_1M</th>\n",
       "      <th>vol_6M</th>\n",
       "      <th>vol_12M</th>\n",
       "      <th>RSI_3</th>\n",
       "      <th>RSI_9</th>\n",
       "      <th>RSI_14</th>\n",
       "    </tr>\n",
       "  </thead>\n",
       "  <tbody>\n",
       "    <tr>\n",
       "      <th>0</th>\n",
       "      <td>ABT</td>\n",
       "      <td>2020-06-15</td>\n",
       "      <td>81.96</td>\n",
       "      <td>5667401</td>\n",
       "      <td>88.6175</td>\n",
       "      <td>-0.008746</td>\n",
       "      <td>0</td>\n",
       "      <td>81.96</td>\n",
       "      <td>81.96</td>\n",
       "      <td>81.96</td>\n",
       "      <td>NaN</td>\n",
       "      <td>NaN</td>\n",
       "      <td>NaN</td>\n",
       "      <td>NaN</td>\n",
       "      <td>NaN</td>\n",
       "      <td>NaN</td>\n",
       "    </tr>\n",
       "    <tr>\n",
       "      <th>36928</th>\n",
       "      <td>INCY</td>\n",
       "      <td>2020-06-15</td>\n",
       "      <td>93.51</td>\n",
       "      <td>1281635</td>\n",
       "      <td>92.4900</td>\n",
       "      <td>-0.152637</td>\n",
       "      <td>0</td>\n",
       "      <td>93.51</td>\n",
       "      <td>93.51</td>\n",
       "      <td>93.51</td>\n",
       "      <td>NaN</td>\n",
       "      <td>NaN</td>\n",
       "      <td>NaN</td>\n",
       "      <td>NaN</td>\n",
       "      <td>NaN</td>\n",
       "      <td>NaN</td>\n",
       "    </tr>\n",
       "    <tr>\n",
       "      <th>38180</th>\n",
       "      <td>PODD</td>\n",
       "      <td>2020-06-15</td>\n",
       "      <td>184.80</td>\n",
       "      <td>872043</td>\n",
       "      <td>183.4400</td>\n",
       "      <td>-0.088746</td>\n",
       "      <td>0</td>\n",
       "      <td>184.80</td>\n",
       "      <td>184.80</td>\n",
       "      <td>184.80</td>\n",
       "      <td>NaN</td>\n",
       "      <td>NaN</td>\n",
       "      <td>NaN</td>\n",
       "      <td>NaN</td>\n",
       "      <td>NaN</td>\n",
       "      <td>NaN</td>\n",
       "    </tr>\n",
       "  </tbody>\n",
       "</table>\n",
       "</div>"
      ],
      "text/plain": [
       "      Ticker       date  adjClose   volume      vwap  weekly_log_return  \\\n",
       "0        ABT 2020-06-15     81.96  5667401   88.6175          -0.008746   \n",
       "36928   INCY 2020-06-15     93.51  1281635   92.4900          -0.152637   \n",
       "38180   PODD 2020-06-15    184.80   872043  183.4400          -0.088746   \n",
       "\n",
       "       target  MA_200  MA_100   MA_50  vol_1M  vol_6M  vol_12M  RSI_3  RSI_9  \\\n",
       "0           0   81.96   81.96   81.96     NaN     NaN      NaN    NaN    NaN   \n",
       "36928       0   93.51   93.51   93.51     NaN     NaN      NaN    NaN    NaN   \n",
       "38180       0  184.80  184.80  184.80     NaN     NaN      NaN    NaN    NaN   \n",
       "\n",
       "       RSI_14  \n",
       "0         NaN  \n",
       "36928     NaN  \n",
       "38180     NaN  "
      ]
     },
     "execution_count": 20,
     "metadata": {},
     "output_type": "execute_result"
    }
   ],
   "source": [
    "windows = [3, 9, 14]\n",
    "df = calculate_rsis(windows, df)\n",
    "df.head(3)"
   ]
  },
  {
   "cell_type": "code",
   "execution_count": 21,
   "id": "f507ac61-3eeb-4a5e-9439-77cb59015dd2",
   "metadata": {},
   "outputs": [],
   "source": [
    "def calculate_bb(group, window = 20, window_dev = 2):\n",
    "    return BollingerBands(close = group['adjClose'], window = window, window_dev = window_dev)"
   ]
  },
  {
   "cell_type": "code",
   "execution_count": 22,
   "id": "498edc0a-8db2-4e4b-82d7-11063df956e1",
   "metadata": {},
   "outputs": [],
   "source": [
    "def calculate_bbs(bands: list, df:pd.DataFrame) -> pd.DataFrame:\n",
    "    group = df.groupby('Ticker', group_keys = False)\n",
    "    for band in bands:\n",
    "        if band == \"hband\":\n",
    "            df[band] = group.apply(lambda x: calculate_bb(x).bollinger_hband())\n",
    "        elif band == \"lband\":\n",
    "            df[band] = group.apply(lambda x: calculate_bb(x).bollinger_lband())\n",
    "            \n",
    "    return df"
   ]
  },
  {
   "cell_type": "code",
   "execution_count": 23,
   "id": "316598ee-63e1-4b68-af57-1be81d0dba84",
   "metadata": {},
   "outputs": [
    {
     "data": {
      "text/html": [
       "<div>\n",
       "<style scoped>\n",
       "    .dataframe tbody tr th:only-of-type {\n",
       "        vertical-align: middle;\n",
       "    }\n",
       "\n",
       "    .dataframe tbody tr th {\n",
       "        vertical-align: top;\n",
       "    }\n",
       "\n",
       "    .dataframe thead th {\n",
       "        text-align: right;\n",
       "    }\n",
       "</style>\n",
       "<table border=\"1\" class=\"dataframe\">\n",
       "  <thead>\n",
       "    <tr style=\"text-align: right;\">\n",
       "      <th></th>\n",
       "      <th>Ticker</th>\n",
       "      <th>date</th>\n",
       "      <th>adjClose</th>\n",
       "      <th>volume</th>\n",
       "      <th>vwap</th>\n",
       "      <th>weekly_log_return</th>\n",
       "      <th>target</th>\n",
       "      <th>MA_200</th>\n",
       "      <th>MA_100</th>\n",
       "      <th>MA_50</th>\n",
       "      <th>vol_1M</th>\n",
       "      <th>vol_6M</th>\n",
       "      <th>vol_12M</th>\n",
       "      <th>RSI_3</th>\n",
       "      <th>RSI_9</th>\n",
       "      <th>RSI_14</th>\n",
       "      <th>hband</th>\n",
       "      <th>lband</th>\n",
       "    </tr>\n",
       "  </thead>\n",
       "  <tbody>\n",
       "    <tr>\n",
       "      <th>0</th>\n",
       "      <td>ABT</td>\n",
       "      <td>2020-06-15</td>\n",
       "      <td>81.96</td>\n",
       "      <td>5667401</td>\n",
       "      <td>88.6175</td>\n",
       "      <td>-0.008746</td>\n",
       "      <td>0</td>\n",
       "      <td>81.96</td>\n",
       "      <td>81.96</td>\n",
       "      <td>81.96</td>\n",
       "      <td>NaN</td>\n",
       "      <td>NaN</td>\n",
       "      <td>NaN</td>\n",
       "      <td>NaN</td>\n",
       "      <td>NaN</td>\n",
       "      <td>NaN</td>\n",
       "      <td>NaN</td>\n",
       "      <td>NaN</td>\n",
       "    </tr>\n",
       "    <tr>\n",
       "      <th>36928</th>\n",
       "      <td>INCY</td>\n",
       "      <td>2020-06-15</td>\n",
       "      <td>93.51</td>\n",
       "      <td>1281635</td>\n",
       "      <td>92.4900</td>\n",
       "      <td>-0.152637</td>\n",
       "      <td>0</td>\n",
       "      <td>93.51</td>\n",
       "      <td>93.51</td>\n",
       "      <td>93.51</td>\n",
       "      <td>NaN</td>\n",
       "      <td>NaN</td>\n",
       "      <td>NaN</td>\n",
       "      <td>NaN</td>\n",
       "      <td>NaN</td>\n",
       "      <td>NaN</td>\n",
       "      <td>NaN</td>\n",
       "      <td>NaN</td>\n",
       "    </tr>\n",
       "    <tr>\n",
       "      <th>38180</th>\n",
       "      <td>PODD</td>\n",
       "      <td>2020-06-15</td>\n",
       "      <td>184.80</td>\n",
       "      <td>872043</td>\n",
       "      <td>183.4400</td>\n",
       "      <td>-0.088746</td>\n",
       "      <td>0</td>\n",
       "      <td>184.80</td>\n",
       "      <td>184.80</td>\n",
       "      <td>184.80</td>\n",
       "      <td>NaN</td>\n",
       "      <td>NaN</td>\n",
       "      <td>NaN</td>\n",
       "      <td>NaN</td>\n",
       "      <td>NaN</td>\n",
       "      <td>NaN</td>\n",
       "      <td>NaN</td>\n",
       "      <td>NaN</td>\n",
       "    </tr>\n",
       "  </tbody>\n",
       "</table>\n",
       "</div>"
      ],
      "text/plain": [
       "      Ticker       date  adjClose   volume      vwap  weekly_log_return  \\\n",
       "0        ABT 2020-06-15     81.96  5667401   88.6175          -0.008746   \n",
       "36928   INCY 2020-06-15     93.51  1281635   92.4900          -0.152637   \n",
       "38180   PODD 2020-06-15    184.80   872043  183.4400          -0.088746   \n",
       "\n",
       "       target  MA_200  MA_100   MA_50  vol_1M  vol_6M  vol_12M  RSI_3  RSI_9  \\\n",
       "0           0   81.96   81.96   81.96     NaN     NaN      NaN    NaN    NaN   \n",
       "36928       0   93.51   93.51   93.51     NaN     NaN      NaN    NaN    NaN   \n",
       "38180       0  184.80  184.80  184.80     NaN     NaN      NaN    NaN    NaN   \n",
       "\n",
       "       RSI_14  hband  lband  \n",
       "0         NaN    NaN    NaN  \n",
       "36928     NaN    NaN    NaN  \n",
       "38180     NaN    NaN    NaN  "
      ]
     },
     "execution_count": 23,
     "metadata": {},
     "output_type": "execute_result"
    }
   ],
   "source": [
    "bands = [\"hband\", \"lband\"]\n",
    "df = calculate_bbs(bands, df)\n",
    "df.head(3)"
   ]
  },
  {
   "cell_type": "markdown",
   "id": "5c3e29b5-8578-4901-954e-7fe7e1f0f731",
   "metadata": {},
   "source": [
    "### Momentum Factor: "
   ]
  },
  {
   "cell_type": "code",
   "execution_count": 24,
   "id": "bd9671c2-e0ea-4002-8629-f5819e72a59e",
   "metadata": {},
   "outputs": [],
   "source": [
    "def calculate_momentum(window_months: int, df: pd.DataFrame, trading_days :int = 21) -> pd.DataFrame:\n",
    "    window_days = window_months * trading_days\n",
    "    col_name = f\"momentum_{str(window_months)}M\"\n",
    "    group = df.groupby('Ticker')\n",
    "    \n",
    "    df[col_name] = group['adjClose'].pct_change(periods = window_days)\n",
    "    \n",
    "    return df"
   ]
  },
  {
   "cell_type": "code",
   "execution_count": 25,
   "id": "ecf840ef-608a-4de2-bd7c-b029b2463ccc",
   "metadata": {},
   "outputs": [],
   "source": [
    "def calculate_momentums(windows: list, df:pd.DataFrame) -> pd.DataFrame:\n",
    "    for window in windows:\n",
    "        df = calculate_momentum(window, df)\n",
    "    return df"
   ]
  },
  {
   "cell_type": "code",
   "execution_count": 26,
   "id": "2d4ba7c7-198b-4d61-9048-ec057151ffa0",
   "metadata": {},
   "outputs": [],
   "source": [
    "windows = [12, 6, 1]\n",
    "\n",
    "df = calculate_momentums(windows, df)\n",
    "# df.head(3)"
   ]
  },
  {
   "cell_type": "markdown",
   "id": "e902d513-c961-4cb0-919b-9b77a092d11d",
   "metadata": {},
   "source": [
    "### Filter Datasets:"
   ]
  },
  {
   "cell_type": "code",
   "execution_count": 40,
   "id": "dd944f9a-4a21-4670-bd3c-f70efd6f1822",
   "metadata": {},
   "outputs": [],
   "source": [
    "# 🗓Choose Each Wednesday and Thursday as the data transformation\n",
    "def wed_thurs_selector(df, date_col='date', stock_col='Ticker'):\n",
    "    \"\"\"\n",
    "    More efficient implementation for large datasets.\n",
    "    \"\"\"\n",
    "    df[date_col] = pd.to_datetime(df[date_col])\n",
    "    df = df.sort_values([stock_col, date_col])\n",
    "    \n",
    "    # Get year-week and day of week\n",
    "    df['year_week'] = df[date_col].dt.strftime('%Y-%U')\n",
    "    df['day_of_week'] = df[date_col].dt.dayofweek\n",
    "    \n",
    "    # Filter to only Wed/Thu\n",
    "    wed_thu = df[df['day_of_week'].isin([2, 3])].copy()\n",
    "    \n",
    "    # For each stock-week, take first Wednesday or first Thursday\n",
    "    filtered = wed_thu.groupby([stock_col, 'year_week']).first().reset_index()\n",
    "    \n",
    "    return filtered.drop(columns=['day_of_week', 'year_week'])\n",
    "    "
   ]
  },
  {
   "cell_type": "code",
   "execution_count": 47,
   "id": "0ecf2051-e6f6-468e-b310-18771b78d82c",
   "metadata": {},
   "outputs": [],
   "source": [
    "def filter_data(df: pd.DataFrame) -> pd.DataFrame: \n",
    "    df = df.copy()\n",
    "    df = wed_thurs_selector(df)\n",
    "    return df.dropna(ignore_index = True)"
   ]
  },
  {
   "cell_type": "code",
   "execution_count": 49,
   "id": "6fbf8c7b-e1a5-4e0d-9603-ea79decbab55",
   "metadata": {},
   "outputs": [],
   "source": [
    "df = filter_data(df)"
   ]
  },
  {
   "cell_type": "markdown",
   "id": "6fc545d0-dc1e-4870-8f8c-a1c8737b2e4b",
   "metadata": {
    "tags": []
   },
   "source": [
    "### Create Custom transformer\n",
    "E.g. Remove/Fill in Nan values, log transformation, standardization"
   ]
  },
  {
   "cell_type": "code",
   "execution_count": 50,
   "id": "99996c95-72d9-4664-800f-1811d828ecdd",
   "metadata": {},
   "outputs": [],
   "source": [
    "from sklearn.pipeline import Pipeline\n",
    "from sklearn.compose import ColumnTransformer\n",
    "from sklearn.preprocessing import StandardScaler, OneHotEncoder\n",
    "from sklearn.impute import SimpleImputer\n",
    "from sklearn.ensemble import RandomForestClassifier\n",
    "from sklearn.base import BaseEstimator, TransformerMixin\n",
    "import pandas as pd"
   ]
  },
  {
   "cell_type": "code",
   "execution_count": 51,
   "id": "93662481-f15f-46c2-aeb1-281501d5c89e",
   "metadata": {},
   "outputs": [],
   "source": [
    "# Perform Log Transformation: \n",
    "class LogTransformer(BaseEstimator, TransformerMixin):\n",
    "    def __init__(self, features):\n",
    "        self.features = features\n",
    "\n",
    "    def fit(self, X, y=None):\n",
    "        return self\n",
    "\n",
    "    def transform(self, X):\n",
    "        X = X.copy()\n",
    "        for feature in self.features:\n",
    "            X[feature] = np.log(X['adjClose'] / X[feature])\n",
    "        return X"
   ]
  },
  {
   "cell_type": "markdown",
   "id": "79f1bf99-9acb-4339-9018-51a0d5460567",
   "metadata": {},
   "source": [
    "### 💽Create training and testing variable"
   ]
  },
  {
   "cell_type": "code",
   "execution_count": 52,
   "id": "dc838945-2937-47d0-834b-0984847a69b6",
   "metadata": {},
   "outputs": [],
   "source": [
    " from sklearn.model_selection import train_test_split"
   ]
  },
  {
   "cell_type": "code",
   "execution_count": 53,
   "id": "8b5d3331-432b-46bc-a362-694a80f67ee0",
   "metadata": {},
   "outputs": [],
   "source": [
    "# Create x and y variable\n",
    "y = df[\"target\"]\n",
    "X = df.drop(columns = [\"target\"])"
   ]
  },
  {
   "cell_type": "code",
   "execution_count": 54,
   "id": "2683f890-60aa-46d6-9fd9-4bab44617b49",
   "metadata": {},
   "outputs": [],
   "source": [
    "X_train, X_test, y_train, y_test = train_test_split(X, y, test_size = 0.2)"
   ]
  },
  {
   "cell_type": "markdown",
   "id": "711ab2c1-68bc-4bc5-93c5-e7910b485bc3",
   "metadata": {
    "tags": []
   },
   "source": [
    "### 🏭 Build a pipeline to transform features"
   ]
  },
  {
   "cell_type": "code",
   "execution_count": 55,
   "id": "28b47716-1c39-480a-ab91-f89536f84deb",
   "metadata": {},
   "outputs": [],
   "source": [
    "from sklearn.pipeline import Pipeline\n",
    "from sklearn.preprocessing import StandardScaler\n",
    "from sklearn.linear_model import LogisticRegression"
   ]
  },
  {
   "cell_type": "code",
   "execution_count": 64,
   "id": "ab375679-7d56-4a3a-9a77-eef838081ccf",
   "metadata": {},
   "outputs": [],
   "source": [
    "#build pipeline\n",
    "log_transform_features = ['MA_200', 'MA_100', 'MA_50', 'hband', 'lband']\n",
    "# cols_to_drop = ['Ticker', 'date', 'weekly_log_return']\n",
    "\n",
    "cols = ['Ticker', 'date', 'weekly_log_return']\n",
    "\n",
    "# Example: Drop columns 'col1' and 'col2'\n",
    "col_dropper = ColumnTransformer(\n",
    "    transformers=[\n",
    "        ('drop_cols', 'drop', cols)\n",
    "    ],\n",
    "    remainder='passthrough'  # keeps all other columns\n",
    ")\n",
    "\n",
    "pipeline = Pipeline(steps = [ \n",
    "    ('log_transformers', LogTransformer(log_transform_features)),\n",
    "    ('col_dropper', col_dropper), \n",
    "    ('scaler', StandardScaler()), \n",
    "    ('classifier', LogisticRegression())\n",
    "])\n",
    "\n"
   ]
  },
  {
   "cell_type": "code",
   "execution_count": 65,
   "id": "0d39b20f-4d18-49de-bb6d-0fb3b538e06f",
   "metadata": {},
   "outputs": [
    {
     "data": {
      "text/html": [
       "<style>#sk-container-id-2 {color: black;}#sk-container-id-2 pre{padding: 0;}#sk-container-id-2 div.sk-toggleable {background-color: white;}#sk-container-id-2 label.sk-toggleable__label {cursor: pointer;display: block;width: 100%;margin-bottom: 0;padding: 0.3em;box-sizing: border-box;text-align: center;}#sk-container-id-2 label.sk-toggleable__label-arrow:before {content: \"▸\";float: left;margin-right: 0.25em;color: #696969;}#sk-container-id-2 label.sk-toggleable__label-arrow:hover:before {color: black;}#sk-container-id-2 div.sk-estimator:hover label.sk-toggleable__label-arrow:before {color: black;}#sk-container-id-2 div.sk-toggleable__content {max-height: 0;max-width: 0;overflow: hidden;text-align: left;background-color: #f0f8ff;}#sk-container-id-2 div.sk-toggleable__content pre {margin: 0.2em;color: black;border-radius: 0.25em;background-color: #f0f8ff;}#sk-container-id-2 input.sk-toggleable__control:checked~div.sk-toggleable__content {max-height: 200px;max-width: 100%;overflow: auto;}#sk-container-id-2 input.sk-toggleable__control:checked~label.sk-toggleable__label-arrow:before {content: \"▾\";}#sk-container-id-2 div.sk-estimator input.sk-toggleable__control:checked~label.sk-toggleable__label {background-color: #d4ebff;}#sk-container-id-2 div.sk-label input.sk-toggleable__control:checked~label.sk-toggleable__label {background-color: #d4ebff;}#sk-container-id-2 input.sk-hidden--visually {border: 0;clip: rect(1px 1px 1px 1px);clip: rect(1px, 1px, 1px, 1px);height: 1px;margin: -1px;overflow: hidden;padding: 0;position: absolute;width: 1px;}#sk-container-id-2 div.sk-estimator {font-family: monospace;background-color: #f0f8ff;border: 1px dotted black;border-radius: 0.25em;box-sizing: border-box;margin-bottom: 0.5em;}#sk-container-id-2 div.sk-estimator:hover {background-color: #d4ebff;}#sk-container-id-2 div.sk-parallel-item::after {content: \"\";width: 100%;border-bottom: 1px solid gray;flex-grow: 1;}#sk-container-id-2 div.sk-label:hover label.sk-toggleable__label {background-color: #d4ebff;}#sk-container-id-2 div.sk-serial::before {content: \"\";position: absolute;border-left: 1px solid gray;box-sizing: border-box;top: 0;bottom: 0;left: 50%;z-index: 0;}#sk-container-id-2 div.sk-serial {display: flex;flex-direction: column;align-items: center;background-color: white;padding-right: 0.2em;padding-left: 0.2em;position: relative;}#sk-container-id-2 div.sk-item {position: relative;z-index: 1;}#sk-container-id-2 div.sk-parallel {display: flex;align-items: stretch;justify-content: center;background-color: white;position: relative;}#sk-container-id-2 div.sk-item::before, #sk-container-id-2 div.sk-parallel-item::before {content: \"\";position: absolute;border-left: 1px solid gray;box-sizing: border-box;top: 0;bottom: 0;left: 50%;z-index: -1;}#sk-container-id-2 div.sk-parallel-item {display: flex;flex-direction: column;z-index: 1;position: relative;background-color: white;}#sk-container-id-2 div.sk-parallel-item:first-child::after {align-self: flex-end;width: 50%;}#sk-container-id-2 div.sk-parallel-item:last-child::after {align-self: flex-start;width: 50%;}#sk-container-id-2 div.sk-parallel-item:only-child::after {width: 0;}#sk-container-id-2 div.sk-dashed-wrapped {border: 1px dashed gray;margin: 0 0.4em 0.5em 0.4em;box-sizing: border-box;padding-bottom: 0.4em;background-color: white;}#sk-container-id-2 div.sk-label label {font-family: monospace;font-weight: bold;display: inline-block;line-height: 1.2em;}#sk-container-id-2 div.sk-label-container {text-align: center;}#sk-container-id-2 div.sk-container {/* jupyter's `normalize.less` sets `[hidden] { display: none; }` but bootstrap.min.css set `[hidden] { display: none !important; }` so we also need the `!important` here to be able to override the default hidden behavior on the sphinx rendered scikit-learn.org. See: https://github.com/scikit-learn/scikit-learn/issues/21755 */display: inline-block !important;position: relative;}#sk-container-id-2 div.sk-text-repr-fallback {display: none;}</style><div id=\"sk-container-id-2\" class=\"sk-top-container\"><div class=\"sk-text-repr-fallback\"><pre>Pipeline(steps=[(&#x27;log_transformers&#x27;,\n",
       "                 LogTransformer(features=[&#x27;MA_200&#x27;, &#x27;MA_100&#x27;, &#x27;MA_50&#x27;, &#x27;hband&#x27;,\n",
       "                                          &#x27;lband&#x27;])),\n",
       "                (&#x27;col_dropper&#x27;,\n",
       "                 ColumnTransformer(remainder=&#x27;passthrough&#x27;,\n",
       "                                   transformers=[(&#x27;drop_cols&#x27;, &#x27;drop&#x27;,\n",
       "                                                  [&#x27;Ticker&#x27;, &#x27;date&#x27;,\n",
       "                                                   &#x27;weekly_log_return&#x27;])])),\n",
       "                (&#x27;scaler&#x27;, StandardScaler()),\n",
       "                (&#x27;classifier&#x27;, LogisticRegression())])</pre><b>In a Jupyter environment, please rerun this cell to show the HTML representation or trust the notebook. <br />On GitHub, the HTML representation is unable to render, please try loading this page with nbviewer.org.</b></div><div class=\"sk-container\" hidden><div class=\"sk-item sk-dashed-wrapped\"><div class=\"sk-label-container\"><div class=\"sk-label sk-toggleable\"><input class=\"sk-toggleable__control sk-hidden--visually\" id=\"sk-estimator-id-10\" type=\"checkbox\" ><label for=\"sk-estimator-id-10\" class=\"sk-toggleable__label sk-toggleable__label-arrow\">Pipeline</label><div class=\"sk-toggleable__content\"><pre>Pipeline(steps=[(&#x27;log_transformers&#x27;,\n",
       "                 LogTransformer(features=[&#x27;MA_200&#x27;, &#x27;MA_100&#x27;, &#x27;MA_50&#x27;, &#x27;hband&#x27;,\n",
       "                                          &#x27;lband&#x27;])),\n",
       "                (&#x27;col_dropper&#x27;,\n",
       "                 ColumnTransformer(remainder=&#x27;passthrough&#x27;,\n",
       "                                   transformers=[(&#x27;drop_cols&#x27;, &#x27;drop&#x27;,\n",
       "                                                  [&#x27;Ticker&#x27;, &#x27;date&#x27;,\n",
       "                                                   &#x27;weekly_log_return&#x27;])])),\n",
       "                (&#x27;scaler&#x27;, StandardScaler()),\n",
       "                (&#x27;classifier&#x27;, LogisticRegression())])</pre></div></div></div><div class=\"sk-serial\"><div class=\"sk-item\"><div class=\"sk-estimator sk-toggleable\"><input class=\"sk-toggleable__control sk-hidden--visually\" id=\"sk-estimator-id-11\" type=\"checkbox\" ><label for=\"sk-estimator-id-11\" class=\"sk-toggleable__label sk-toggleable__label-arrow\">LogTransformer</label><div class=\"sk-toggleable__content\"><pre>LogTransformer(features=[&#x27;MA_200&#x27;, &#x27;MA_100&#x27;, &#x27;MA_50&#x27;, &#x27;hband&#x27;, &#x27;lband&#x27;])</pre></div></div></div><div class=\"sk-item sk-dashed-wrapped\"><div class=\"sk-label-container\"><div class=\"sk-label sk-toggleable\"><input class=\"sk-toggleable__control sk-hidden--visually\" id=\"sk-estimator-id-12\" type=\"checkbox\" ><label for=\"sk-estimator-id-12\" class=\"sk-toggleable__label sk-toggleable__label-arrow\">col_dropper: ColumnTransformer</label><div class=\"sk-toggleable__content\"><pre>ColumnTransformer(remainder=&#x27;passthrough&#x27;,\n",
       "                  transformers=[(&#x27;drop_cols&#x27;, &#x27;drop&#x27;,\n",
       "                                 [&#x27;Ticker&#x27;, &#x27;date&#x27;, &#x27;weekly_log_return&#x27;])])</pre></div></div></div><div class=\"sk-parallel\"><div class=\"sk-parallel-item\"><div class=\"sk-item\"><div class=\"sk-label-container\"><div class=\"sk-label sk-toggleable\"><input class=\"sk-toggleable__control sk-hidden--visually\" id=\"sk-estimator-id-13\" type=\"checkbox\" ><label for=\"sk-estimator-id-13\" class=\"sk-toggleable__label sk-toggleable__label-arrow\">drop_cols</label><div class=\"sk-toggleable__content\"><pre>[&#x27;Ticker&#x27;, &#x27;date&#x27;, &#x27;weekly_log_return&#x27;]</pre></div></div></div><div class=\"sk-serial\"><div class=\"sk-item\"><div class=\"sk-estimator sk-toggleable\"><input class=\"sk-toggleable__control sk-hidden--visually\" id=\"sk-estimator-id-14\" type=\"checkbox\" ><label for=\"sk-estimator-id-14\" class=\"sk-toggleable__label sk-toggleable__label-arrow\">drop</label><div class=\"sk-toggleable__content\"><pre>drop</pre></div></div></div></div></div></div><div class=\"sk-parallel-item\"><div class=\"sk-item\"><div class=\"sk-label-container\"><div class=\"sk-label sk-toggleable\"><input class=\"sk-toggleable__control sk-hidden--visually\" id=\"sk-estimator-id-15\" type=\"checkbox\" ><label for=\"sk-estimator-id-15\" class=\"sk-toggleable__label sk-toggleable__label-arrow\">remainder</label><div class=\"sk-toggleable__content\"><pre>[&#x27;adjClose&#x27;, &#x27;volume&#x27;, &#x27;vwap&#x27;, &#x27;MA_200&#x27;, &#x27;MA_100&#x27;, &#x27;MA_50&#x27;, &#x27;vol_1M&#x27;, &#x27;vol_6M&#x27;, &#x27;vol_12M&#x27;, &#x27;RSI_3&#x27;, &#x27;RSI_9&#x27;, &#x27;RSI_14&#x27;, &#x27;hband&#x27;, &#x27;lband&#x27;, &#x27;momentum_12M&#x27;, &#x27;momentum_6M&#x27;, &#x27;momentum_1M&#x27;]</pre></div></div></div><div class=\"sk-serial\"><div class=\"sk-item\"><div class=\"sk-estimator sk-toggleable\"><input class=\"sk-toggleable__control sk-hidden--visually\" id=\"sk-estimator-id-16\" type=\"checkbox\" ><label for=\"sk-estimator-id-16\" class=\"sk-toggleable__label sk-toggleable__label-arrow\">passthrough</label><div class=\"sk-toggleable__content\"><pre>passthrough</pre></div></div></div></div></div></div></div></div><div class=\"sk-item\"><div class=\"sk-estimator sk-toggleable\"><input class=\"sk-toggleable__control sk-hidden--visually\" id=\"sk-estimator-id-17\" type=\"checkbox\" ><label for=\"sk-estimator-id-17\" class=\"sk-toggleable__label sk-toggleable__label-arrow\">StandardScaler</label><div class=\"sk-toggleable__content\"><pre>StandardScaler()</pre></div></div></div><div class=\"sk-item\"><div class=\"sk-estimator sk-toggleable\"><input class=\"sk-toggleable__control sk-hidden--visually\" id=\"sk-estimator-id-18\" type=\"checkbox\" ><label for=\"sk-estimator-id-18\" class=\"sk-toggleable__label sk-toggleable__label-arrow\">LogisticRegression</label><div class=\"sk-toggleable__content\"><pre>LogisticRegression()</pre></div></div></div></div></div></div></div>"
      ],
      "text/plain": [
       "Pipeline(steps=[('log_transformers',\n",
       "                 LogTransformer(features=['MA_200', 'MA_100', 'MA_50', 'hband',\n",
       "                                          'lband'])),\n",
       "                ('col_dropper',\n",
       "                 ColumnTransformer(remainder='passthrough',\n",
       "                                   transformers=[('drop_cols', 'drop',\n",
       "                                                  ['Ticker', 'date',\n",
       "                                                   'weekly_log_return'])])),\n",
       "                ('scaler', StandardScaler()),\n",
       "                ('classifier', LogisticRegression())])"
      ]
     },
     "execution_count": 65,
     "metadata": {},
     "output_type": "execute_result"
    }
   ],
   "source": [
    "pipeline.fit(X_train, y_train)"
   ]
  },
  {
   "cell_type": "code",
   "execution_count": 66,
   "id": "9ac86c4f-7a19-45a0-9b19-d845fe4d9d53",
   "metadata": {},
   "outputs": [
    {
     "name": "stdout",
     "output_type": "stream",
     "text": [
      "[0 0 0 ... 1 0 1]\n"
     ]
    }
   ],
   "source": [
    "y_pred = pipeline.predict(X_test)\n",
    "print(y_pred)"
   ]
  },
  {
   "cell_type": "code",
   "execution_count": 67,
   "id": "2d258932-0c22-4f5d-b5cb-2bcf2db301f3",
   "metadata": {},
   "outputs": [
    {
     "name": "stdout",
     "output_type": "stream",
     "text": [
      "Model accuracy: 0.5158371040723982\n"
     ]
    }
   ],
   "source": [
    "print(f\"Model accuracy: {pipeline.score(X_test, y_test)}\")"
   ]
  }
 ],
 "metadata": {
  "colab": {
   "provenance": []
  },
  "interpreter": {
   "hash": "11da3e41f4d0f2473ba3c4685f967a454faf6984f44a87b639429c4a8216bafa"
  },
  "kernelspec": {
   "display_name": "Python 3.8.8 ('base')",
   "language": "python",
   "name": "python3"
  },
  "language_info": {
   "codemirror_mode": {
    "name": "ipython",
    "version": 3
   },
   "file_extension": ".py",
   "mimetype": "text/x-python",
   "name": "python",
   "nbconvert_exporter": "python",
   "pygments_lexer": "ipython3",
   "version": "3.8.8"
  }
 },
 "nbformat": 4,
 "nbformat_minor": 5
}
